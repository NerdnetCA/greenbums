{
 "cells": [
  {
   "cell_type": "markdown",
   "id": "1e903959-ca45-45fa-8730-638aa2a75917",
   "metadata": {},
   "source": [
    "\n",
    "$$\n",
    "f=r \\times \\left( d \\times \\frac{m_{ship}}{m_{opt}} \\right)^p \\times 10^{-3}\n",
    "$$\n",
    "\n",
    "Where r is:\n",
    "$$\n",
    "\\begin{matrix}\n",
    "A\\\\B\\\\C\\\\D\\\\E\n",
    "12\\\\10\\\\8\\\\10\\\\11\n",
    "\\end\n",
    "$$\n",
    "\n",
    "p is:\n",
    "$$\n",
    "\\begin{matrix}\n",
    "2\\\\3\\\\4\\\\5\\\\6\\\\7\\\\8\n",
    "2.00\\\\2.15\\\\2.3\\\\2.45\\\\2.6\\\\2.75\\\\2.9\n",
    "\\end\n",
    "$$\n"
   ]
  },
  {
   "cell_type": "code",
   "execution_count": null,
   "id": "df08c8cb-321e-4fe4-980d-e0befb378071",
   "metadata": {},
   "outputs": [],
   "source": []
  }
 ],
 "metadata": {
  "kernelspec": {
   "display_name": "Python 3 (ipykernel)",
   "language": "python",
   "name": "python3"
  },
  "language_info": {
   "codemirror_mode": {
    "name": "ipython",
    "version": 3
   },
   "file_extension": ".py",
   "mimetype": "text/x-python",
   "name": "python",
   "nbconvert_exporter": "python",
   "pygments_lexer": "ipython3",
   "version": "3.9.7"
  }
 },
 "nbformat": 4,
 "nbformat_minor": 5
}
